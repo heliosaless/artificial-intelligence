{
 "cells": [
  {
   "cell_type": "code",
   "execution_count": 1,
   "metadata": {},
   "outputs": [],
   "source": [
    "import pandas as pd\n",
    "import numpy as np\n",
    "import matplotlib.pyplot as plt"
   ]
  },
  {
   "cell_type": "code",
   "execution_count": 2,
   "metadata": {},
   "outputs": [],
   "source": [
    "def pre_process(dataset, col_label):\n",
    "    \n",
    "    x = dataset.iloc[:,0:col_label]\n",
    "    ux, sx = x.mean(axis=0),x.std(axis=0,ddof=0)\n",
    "    x = (x - ux)/sx\n",
    "    x = np.hstack((np.ones(x.shape[0])[np.newaxis].T,x))\n",
    "    \n",
    "    y = dataset.iloc[:,col_label]\n",
    "    #uy, sy = y.mean(axis=0), y.std(axis=0,ddof=0)\n",
    "    #y = (y - uy)/sy\n",
    "    y = np.array(y)[np.newaxis].T\n",
    "    \n",
    "    return x,y"
   ]
  },
  {
   "cell_type": "code",
   "execution_count": 3,
   "metadata": {},
   "outputs": [],
   "source": [
    "def logistic(x):\n",
    "    z = np.array(x, dtype= float)\n",
    "    return 1/(1+np.exp(-(z)))"
   ]
  },
  {
   "cell_type": "code",
   "execution_count": 4,
   "metadata": {},
   "outputs": [],
   "source": [
    "def ei_logistic(w,x,y):\n",
    "    h = logistic(np.dot(x,w))\n",
    "    return (y-h)*h*(1-h)"
   ]
  },
  {
   "cell_type": "code",
   "execution_count": 5,
   "metadata": {},
   "outputs": [],
   "source": [
    "def err_logistic(w,x,y):\n",
    "    return np.sum((y - logistic(np.dot(x,w)))**2,axis = 0)"
   ]
  },
  {
   "cell_type": "code",
   "execution_count": 6,
   "metadata": {},
   "outputs": [],
   "source": [
    "def GD_(x,y, iterations, alfa):\n",
    "    n = x.shape[0]\n",
    "    d = x.shape[1]\n",
    "    \n",
    "    w = np.array([np.zeros(d)]).T\n",
    "    loss = []\n",
    "    \n",
    "    while(iterations != 0):\n",
    "        w = w + alfa*(np.sum(ei_logistic(w,x,y)*x,axis=0)[np.newaxis].T)#/n\n",
    "        iterations = iterations - 1\n",
    "        loss.append(err_logistic(w,x,y)[0])\n",
    "        \n",
    "    return w,loss"
   ]
  },
  {
   "cell_type": "code",
   "execution_count": 7,
   "metadata": {},
   "outputs": [],
   "source": [
    "def avaliation(w,test):\n",
    "    xtest,ytest = pre_process(test, 30)\n",
    "    \n",
    "    predict = logistic(np.dot(xtest,w))\n",
    "    predict[predict<0.5]=0.0\n",
    "    predict[predict>=0.5]=1.0\n",
    "    \n",
    "    summ = 0\n",
    "    \n",
    "    for i in range(test.shape[0]):\n",
    "        if(predict[i]==ytest[i]): summ += 1\n",
    "        \n",
    "    return summ/test.shape[0]"
   ]
  },
  {
   "cell_type": "code",
   "execution_count": 8,
   "metadata": {},
   "outputs": [],
   "source": [
    "data = pd.read_csv(\"wdbc.data\",header=None)\n",
    "df = pd.DataFrame(data, columns = [i for i in range(32)])\n",
    "df = df[[i for i in range(31) if i != 1] + [1]]\n",
    "\n",
    "df[1] = df[1].mask(df[1]=='B',1)\n",
    "df[1] = df[1].mask(df[1]=='M',0)"
   ]
  },
  {
   "cell_type": "code",
   "execution_count": 9,
   "metadata": {},
   "outputs": [
    {
     "name": "stdout",
     "output_type": "stream",
     "text": [
      "(398, 31)\n"
     ]
    }
   ],
   "source": [
    "train_len = int(0.7*df.shape[0])\n",
    "train = df[0:train_len]\n",
    "test = df[train_len:] \n",
    "test = test.reset_index(drop=True)\n",
    "print(train.shape)"
   ]
  },
  {
   "cell_type": "code",
   "execution_count": 10,
   "metadata": {},
   "outputs": [],
   "source": [
    "x, y = pre_process(train, 30)"
   ]
  },
  {
   "cell_type": "code",
   "execution_count": 39,
   "metadata": {},
   "outputs": [],
   "source": [
    "iterations = 600\n",
    "alfa = 0.1"
   ]
  },
  {
   "cell_type": "code",
   "execution_count": 40,
   "metadata": {},
   "outputs": [],
   "source": [
    "w, loss= GD_(x, y, iterations, alfa)"
   ]
  },
  {
   "cell_type": "code",
   "execution_count": 41,
   "metadata": {},
   "outputs": [
    {
     "data": {
      "image/png": "[encoded data removed]",
      "text/plain": [
       "<Figure size 432x288 with 1 Axes>"
      ]
     },
     "metadata": {
      "needs_background": "light"
     },
     "output_type": "display_data"
    }
   ],
   "source": [
    "plt.plot(range(iterations),loss)\n",
    "plt.show()"
   ]
  },
  {
   "cell_type": "code",
   "execution_count": 42,
   "metadata": {},
   "outputs": [
    {
     "data": {
      "text/plain": [
       "0.9122807017543859"
      ]
     },
     "execution_count": 42,
     "metadata": {},
     "output_type": "execute_result"
    }
   ],
   "source": [
    "avaliation(w,test)"
   ]
  },
  {
   "cell_type": "code",
   "execution_count": null,
   "metadata": {},
   "outputs": [],
   "source": []
  }
 ],
 "metadata": {
  "kernelspec": {
   "display_name": "Python 3",
   "language": "python",
   "name": "python3"
  },
  "language_info": {
   "codemirror_mode": {
    "name": "ipython",
    "version": 3
   },
   "file_extension": ".py",
   "mimetype": "text/x-python",
   "name": "python",
   "nbconvert_exporter": "python",
   "pygments_lexer": "ipython3",
   "version": "3.8.3"
  }
 },
 "nbformat": 4,
 "nbformat_minor": 4
}
